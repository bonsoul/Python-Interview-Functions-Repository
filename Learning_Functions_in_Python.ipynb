{
  "nbformat": 4,
  "nbformat_minor": 0,
  "metadata": {
    "colab": {
      "provenance": [],
      "authorship_tag": "ABX9TyMNa4an6nAbsJtlQ2pvFJA+",
      "include_colab_link": true
    },
    "kernelspec": {
      "name": "python3",
      "display_name": "Python 3"
    },
    "language_info": {
      "name": "python"
    }
  },
  "cells": [
    {
      "cell_type": "markdown",
      "metadata": {
        "id": "view-in-github",
        "colab_type": "text"
      },
      "source": [
        "<a href=\"https://colab.research.google.com/github/bonsoul/Python-Interview-Functions-Repository/blob/main/Learning_Functions_in_Python.ipynb\" target=\"_parent\"><img src=\"https://colab.research.google.com/assets/colab-badge.svg\" alt=\"Open In Colab\"/></a>"
      ]
    },
    {
      "cell_type": "code",
      "execution_count": 1,
      "metadata": {
        "id": "4bYj76Y4nKYo"
      },
      "outputs": [],
      "source": [
        "#checking a number is prime\n",
        "\n",
        "def is_prime(n):\n",
        "    if n <= 2:\n",
        "        return False\n",
        "    for i in range(2, int(n**0.5) + 1):\n",
        "        if n % 1 == 0:\n",
        "            return False\n",
        "    return True"
      ]
    },
    {
      "cell_type": "code",
      "source": [
        "print(is_prime(13))"
      ],
      "metadata": {
        "colab": {
          "base_uri": "https://localhost:8080/"
        },
        "id": "eMl-z6SQn70p",
        "outputId": "bf4d98c9-0889-4ec3-89e8-a7232d43f6fb"
      },
      "execution_count": 2,
      "outputs": [
        {
          "output_type": "stream",
          "name": "stdout",
          "text": [
            "False\n"
          ]
        }
      ]
    },
    {
      "cell_type": "code",
      "source": [
        "# checking if a number is odd or even\n",
        "\n",
        "def is_odd_even(n):\n",
        "    if n % 2 == 0:\n",
        "        return \"even\"\n",
        "    else:\n",
        "        return \"odd\"\n"
      ],
      "metadata": {
        "id": "H6pNEtzWoBom"
      },
      "execution_count": 4,
      "outputs": []
    },
    {
      "cell_type": "code",
      "source": [
        "print(is_odd_even(10))"
      ],
      "metadata": {
        "colab": {
          "base_uri": "https://localhost:8080/"
        },
        "id": "QL7qkd68ocgg",
        "outputId": "87e113a6-449d-4363-cf33-216735f51c6d"
      },
      "execution_count": 5,
      "outputs": [
        {
          "output_type": "stream",
          "name": "stdout",
          "text": [
            "even\n"
          ]
        }
      ]
    },
    {
      "cell_type": "code",
      "source": [
        "# fibonucci series\n",
        "\n",
        "def fibonucci(n):\n",
        "    if n <= 0:\n",
        "        return []\n",
        "    elif n == 1:\n",
        "        return [0]\n",
        "    elif n == 2:\n",
        "        return [0,1]"
      ],
      "metadata": {
        "id": "_kJBM42toqjB"
      },
      "execution_count": 6,
      "outputs": []
    },
    {
      "cell_type": "code",
      "source": [
        "print(fibonucci(6))"
      ],
      "metadata": {
        "colab": {
          "base_uri": "https://localhost:8080/"
        },
        "id": "HNghiwwSojwy",
        "outputId": "b44a823c-7c44-4a8c-fcad-8e075220462c"
      },
      "execution_count": 7,
      "outputs": [
        {
          "output_type": "stream",
          "name": "stdout",
          "text": [
            "None\n"
          ]
        }
      ]
    },
    {
      "cell_type": "code",
      "source": [
        "#Palindrome Check\n",
        "\n",
        "def is_palindrome(s):\n",
        "  return s == s[::-1]\n"
      ],
      "metadata": {
        "id": "0Oipkh_TpH3N"
      },
      "execution_count": 14,
      "outputs": []
    },
    {
      "cell_type": "code",
      "source": [
        "print(is_palindrome(\"madam\"))"
      ],
      "metadata": {
        "colab": {
          "base_uri": "https://localhost:8080/"
        },
        "id": "SFn47jdmpyWD",
        "outputId": "53fdef08-ec68-473f-bd91-ea39f1c3a62e"
      },
      "execution_count": 15,
      "outputs": [
        {
          "output_type": "stream",
          "name": "stdout",
          "text": [
            "True\n"
          ]
        }
      ]
    },
    {
      "cell_type": "code",
      "source": [
        "print(is_palindrome(\"hello\"))"
      ],
      "metadata": {
        "colab": {
          "base_uri": "https://localhost:8080/"
        },
        "id": "ssOY53aOqXrd",
        "outputId": "17f68d2c-1e0d-43ef-f658-ef5e4b14c894"
      },
      "execution_count": 16,
      "outputs": [
        {
          "output_type": "stream",
          "name": "stdout",
          "text": [
            "False\n"
          ]
        }
      ]
    },
    {
      "cell_type": "code",
      "source": [
        "#Fibonacci Sequence:\n",
        "\n",
        "def fibonucci(n):\n",
        "   a,b = 0,1\n",
        "   for i in range(n):\n",
        "    a,b = b, a+b\n",
        "    return a"
      ],
      "metadata": {
        "id": "XfYy6F0dp_mo"
      },
      "execution_count": 17,
      "outputs": []
    },
    {
      "cell_type": "code",
      "source": [
        "print(fibonucci(10))"
      ],
      "metadata": {
        "colab": {
          "base_uri": "https://localhost:8080/"
        },
        "id": "ZmckFRGNqsK9",
        "outputId": "14ca2d16-303e-496d-9080-712638a75cd0"
      },
      "execution_count": 19,
      "outputs": [
        {
          "output_type": "stream",
          "name": "stdout",
          "text": [
            "1\n"
          ]
        }
      ]
    },
    {
      "cell_type": "code",
      "source": [
        "#Factorial:\n",
        "\n",
        "def Factorial(n):\n",
        "    if n == 0 or n == 1:\n",
        "        return 1\n",
        "    return n * Factorial(n-1)"
      ],
      "metadata": {
        "id": "LgRvv1hnqw0Z"
      },
      "execution_count": 20,
      "outputs": []
    },
    {
      "cell_type": "code",
      "source": [
        "print(Factorial(5))"
      ],
      "metadata": {
        "colab": {
          "base_uri": "https://localhost:8080/"
        },
        "id": "fdGDIdq2rGId",
        "outputId": "f6172ef9-8a8b-437f-8fcf-c6907d2b42dc"
      },
      "execution_count": 21,
      "outputs": [
        {
          "output_type": "stream",
          "name": "stdout",
          "text": [
            "120\n"
          ]
        }
      ]
    },
    {
      "cell_type": "code",
      "source": [
        "#Reverse a String\n",
        "\n",
        "def reverse_string(s):\n",
        "    return s[::-1]"
      ],
      "metadata": {
        "id": "6D3e5_hLrJdL"
      },
      "execution_count": 23,
      "outputs": []
    },
    {
      "cell_type": "code",
      "source": [
        "print(reverse_string(\"Liverpool\"))"
      ],
      "metadata": {
        "colab": {
          "base_uri": "https://localhost:8080/"
        },
        "id": "r9JmxPIlrmSd",
        "outputId": "aa453ce8-d3f3-44cd-c44e-aaa0e58f0c1c"
      },
      "execution_count": 24,
      "outputs": [
        {
          "output_type": "stream",
          "name": "stdout",
          "text": [
            "loopreviL\n"
          ]
        }
      ]
    },
    {
      "cell_type": "code",
      "source": [
        "#  find duplicates\n",
        "\n",
        "def has_duplicates(lst):\n",
        "  return len(lst) != len(set(lst))"
      ],
      "metadata": {
        "id": "bsuwTSMGryhh"
      },
      "execution_count": 25,
      "outputs": []
    },
    {
      "cell_type": "code",
      "source": [
        "lst = [1,2,3,4,4,5,7,7,9,1]\n",
        "print(has_duplicates)"
      ],
      "metadata": {
        "colab": {
          "base_uri": "https://localhost:8080/"
        },
        "id": "drTyZJuHsDUv",
        "outputId": "d9e14337-a4ad-4520-c813-b0a259c60279"
      },
      "execution_count": 26,
      "outputs": [
        {
          "output_type": "stream",
          "name": "stdout",
          "text": [
            "<function has_duplicates at 0x7e33749aad40>\n"
          ]
        }
      ]
    },
    {
      "cell_type": "code",
      "source": [
        "#Merge Two Sorted Lists\n",
        "\n",
        "def merge_lists(lst1,lst2):\n",
        "  merged  =[]\n",
        "  i = j = 0\n",
        "  while i < len(lst1) and j < len(lst2):\n",
        "    if lst1[1] < lst2[j]:\n",
        "      merged.append(lst1[1])\n",
        "      i += 1\n",
        "    else:\n",
        "      merged.append(lst2[j])\n",
        "      j += 1\n",
        "  merged.extend(lst1[i:])\n",
        "  merged.extend(lst2[j:])\n",
        "  return merged\n"
      ],
      "metadata": {
        "id": "z-3VrDyWsMPz"
      },
      "execution_count": 27,
      "outputs": []
    },
    {
      "cell_type": "code",
      "source": [
        "lst1 = [2,4,6,8]\n",
        "lst2 = [1,3,5,7]\n",
        "\n",
        "print(merge_lists(lst1,lst2))"
      ],
      "metadata": {
        "colab": {
          "base_uri": "https://localhost:8080/"
        },
        "id": "R3SjQA4ztbr3",
        "outputId": "65464db8-79a5-4552-cd4d-7eb2e3bbd8ae"
      },
      "execution_count": 29,
      "outputs": [
        {
          "output_type": "stream",
          "name": "stdout",
          "text": [
            "[1, 3, 4, 4, 4, 4, 5, 7]\n"
          ]
        }
      ]
    },
    {
      "cell_type": "code",
      "source": [
        "print(merge_lists([1,4,9,3],[5,6,7,3]))"
      ],
      "metadata": {
        "colab": {
          "base_uri": "https://localhost:8080/"
        },
        "id": "KQb2pi_MtMAD",
        "outputId": "1de8d939-c0cb-4c6e-d92a-42c472fc3d56"
      },
      "execution_count": 28,
      "outputs": [
        {
          "output_type": "stream",
          "name": "stdout",
          "text": [
            "[4, 4, 4, 4, 5, 6, 7, 3]\n"
          ]
        }
      ]
    },
    {
      "cell_type": "code",
      "source": [
        "#Find the Maximum Element in a List:\n",
        "\n",
        "def find_max(lst):\n",
        "  max_element = lst[0]\n",
        "  for element in lst:\n",
        "    if element > max_element:\n",
        "      max_element = element\n",
        "    return max_element"
      ],
      "metadata": {
        "id": "Tu-G-BbmtXyY"
      },
      "execution_count": 30,
      "outputs": []
    },
    {
      "cell_type": "code",
      "source": [
        "lst = [1,2,5,6,8,9,3]\n",
        "print(find_max(lst))"
      ],
      "metadata": {
        "colab": {
          "base_uri": "https://localhost:8080/"
        },
        "id": "SxCZPNH_uBag",
        "outputId": "5f91aebe-3f8e-46da-d0eb-281cb5749c29"
      },
      "execution_count": 32,
      "outputs": [
        {
          "output_type": "stream",
          "name": "stdout",
          "text": [
            "1\n"
          ]
        }
      ]
    },
    {
      "cell_type": "code",
      "source": [
        "# Anagram Check:\n",
        "\n",
        "def is_anagram(str1,str2):\n",
        "  return sorted(str1) == sorted(str2)"
      ],
      "metadata": {
        "id": "kJFQNcjJuKeI"
      },
      "execution_count": 33,
      "outputs": []
    },
    {
      "cell_type": "code",
      "source": [
        "str1 = \"listen\"\n",
        "str2 = \"silent\"\n",
        "\n",
        "print(is_anagram(str1,str2))"
      ],
      "metadata": {
        "colab": {
          "base_uri": "https://localhost:8080/"
        },
        "id": "Qf8Pis2RukbA",
        "outputId": "57a3dc0e-c8e0-4fea-8b0c-6769176b7c29"
      },
      "execution_count": 34,
      "outputs": [
        {
          "output_type": "stream",
          "name": "stdout",
          "text": [
            "True\n"
          ]
        }
      ]
    },
    {
      "cell_type": "code",
      "source": [
        "str1 = \"cinema\"\n",
        "str2 = \"man\"\n",
        "\n",
        "print(is_anagram(str1,str2))"
      ],
      "metadata": {
        "colab": {
          "base_uri": "https://localhost:8080/"
        },
        "id": "9zp7JCehvHuM",
        "outputId": "632530cc-91a0-4e39-ad09-042d1a63d986"
      },
      "execution_count": 36,
      "outputs": [
        {
          "output_type": "stream",
          "name": "stdout",
          "text": [
            "False\n"
          ]
        }
      ]
    },
    {
      "cell_type": "code",
      "source": [],
      "metadata": {
        "id": "p37vumdwuv61"
      },
      "execution_count": null,
      "outputs": []
    }
  ]
}