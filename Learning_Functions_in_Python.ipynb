{
  "nbformat": 4,
  "nbformat_minor": 0,
  "metadata": {
    "colab": {
      "provenance": [],
      "authorship_tag": "ABX9TyMNa4an6nAbsJtlQ2pvFJA+",
      "include_colab_link": true
    },
    "kernelspec": {
      "name": "python3",
      "display_name": "Python 3"
    },
    "language_info": {
      "name": "python"
    }
  },
  "cells": [
    {
      "cell_type": "markdown",
      "metadata": {
        "id": "view-in-github",
        "colab_type": "text"
      },
      "source": [
        "<a href=\"https://colab.research.google.com/github/bonsoul/Python-Interview-Functions-Repository/blob/main/Learning_Functions_in_Python.ipynb\" target=\"_parent\"><img src=\"https://colab.research.google.com/assets/colab-badge.svg\" alt=\"Open In Colab\"/></a>"
      ]
    },
    {
      "cell_type": "code",
      "execution_count": 1,
      "metadata": {
        "id": "4bYj76Y4nKYo"
      },
      "outputs": [],
      "source": [
        "#checking a number is prime\n",
        "\n",
        "def is_prime(n):\n",
        "    if n <= 2:\n",
        "        return False\n",
        "    for i in range(2, int(n**0.5) + 1):\n",
        "        if n % 1 == 0:\n",
        "            return False\n",
        "    return True"
      ]
    },
    {
      "cell_type": "code",
      "source": [
        "print(is_prime(13))"
      ],
      "metadata": {
        "colab": {
          "base_uri": "https://localhost:8080/"
        },
        "id": "eMl-z6SQn70p",
        "outputId": "a4bec40a-72da-4fe9-c3a8-4f99ae559190"
      },
      "execution_count": 2,
      "outputs": [
        {
          "output_type": "stream",
          "name": "stdout",
          "text": [
            "False\n"
          ]
        }
      ]
    },
    {
      "cell_type": "code",
      "source": [
        "# checking if a number is odd or even\n",
        "\n",
        "def is_odd_even(n):\n",
        "    if n % 2 == 0:\n",
        "        return \"even\"\n",
        "    else:\n",
        "        return \"odd\"\n"
      ],
      "metadata": {
        "id": "H6pNEtzWoBom"
      },
      "execution_count": 3,
      "outputs": []
    },
    {
      "cell_type": "code",
      "source": [
        "print(is_odd_even(10))"
      ],
      "metadata": {
        "colab": {
          "base_uri": "https://localhost:8080/"
        },
        "id": "QL7qkd68ocgg",
        "outputId": "07387cdd-dc41-4201-c157-b70668440509"
      },
      "execution_count": 4,
      "outputs": [
        {
          "output_type": "stream",
          "name": "stdout",
          "text": [
            "even\n"
          ]
        }
      ]
    },
    {
      "cell_type": "code",
      "source": [
        "# fibonucci series\n",
        "\n",
        "def fibonucci(n):\n",
        "    if n <= 0:\n",
        "        return []\n",
        "    elif n == 1:\n",
        "        return [0]\n",
        "    elif n == 2:\n",
        "        return [0,1]"
      ],
      "metadata": {
        "id": "_kJBM42toqjB"
      },
      "execution_count": 5,
      "outputs": []
    },
    {
      "cell_type": "code",
      "source": [
        "print(fibonucci(6))"
      ],
      "metadata": {
        "colab": {
          "base_uri": "https://localhost:8080/"
        },
        "id": "HNghiwwSojwy",
        "outputId": "e4824937-3e0e-4158-8250-92dcc0c4de91"
      },
      "execution_count": 6,
      "outputs": [
        {
          "output_type": "stream",
          "name": "stdout",
          "text": [
            "None\n"
          ]
        }
      ]
    },
    {
      "cell_type": "code",
      "source": [
        "#Palindrome Check\n",
        "\n",
        "def is_palindrome(s):\n",
        "  return s == s[::-1]\n"
      ],
      "metadata": {
        "id": "0Oipkh_TpH3N"
      },
      "execution_count": 7,
      "outputs": []
    },
    {
      "cell_type": "code",
      "source": [
        "print(is_palindrome(\"madam\"))"
      ],
      "metadata": {
        "colab": {
          "base_uri": "https://localhost:8080/"
        },
        "id": "SFn47jdmpyWD",
        "outputId": "a426d236-9b9a-42ae-f51c-ccce44b95eb8"
      },
      "execution_count": 8,
      "outputs": [
        {
          "output_type": "stream",
          "name": "stdout",
          "text": [
            "True\n"
          ]
        }
      ]
    },
    {
      "cell_type": "code",
      "source": [
        "print(is_palindrome(\"hello\"))"
      ],
      "metadata": {
        "colab": {
          "base_uri": "https://localhost:8080/"
        },
        "id": "ssOY53aOqXrd",
        "outputId": "9b19e7de-7cc3-476f-ae78-e7b033f47bc1"
      },
      "execution_count": 9,
      "outputs": [
        {
          "output_type": "stream",
          "name": "stdout",
          "text": [
            "False\n"
          ]
        }
      ]
    },
    {
      "cell_type": "code",
      "source": [
        "#Fibonacci Sequence:\n",
        "\n",
        "def fibonucci(n):\n",
        "   a,b = 0,1\n",
        "   for i in range(n):\n",
        "    a,b = b, a+b\n",
        "    return a"
      ],
      "metadata": {
        "id": "XfYy6F0dp_mo"
      },
      "execution_count": 10,
      "outputs": []
    },
    {
      "cell_type": "code",
      "source": [
        "print(fibonucci(10))"
      ],
      "metadata": {
        "colab": {
          "base_uri": "https://localhost:8080/"
        },
        "id": "ZmckFRGNqsK9",
        "outputId": "4eee5265-7dca-44b6-c535-f96c09af8f8f"
      },
      "execution_count": 11,
      "outputs": [
        {
          "output_type": "stream",
          "name": "stdout",
          "text": [
            "1\n"
          ]
        }
      ]
    },
    {
      "cell_type": "code",
      "source": [
        "#Factorial:\n",
        "\n",
        "def Factorial(n):\n",
        "    if n == 0 or n == 1:\n",
        "        return 1\n",
        "    return n * Factorial(n-1)"
      ],
      "metadata": {
        "id": "LgRvv1hnqw0Z"
      },
      "execution_count": 12,
      "outputs": []
    },
    {
      "cell_type": "code",
      "source": [
        "print(Factorial(5))"
      ],
      "metadata": {
        "colab": {
          "base_uri": "https://localhost:8080/"
        },
        "id": "fdGDIdq2rGId",
        "outputId": "9074900f-27c6-4b3e-eda5-adec6418e6be"
      },
      "execution_count": 13,
      "outputs": [
        {
          "output_type": "stream",
          "name": "stdout",
          "text": [
            "120\n"
          ]
        }
      ]
    },
    {
      "cell_type": "code",
      "source": [
        "#Reverse a String\n",
        "\n",
        "def reverse_string(s):\n",
        "    return s[::-1]"
      ],
      "metadata": {
        "id": "6D3e5_hLrJdL"
      },
      "execution_count": 14,
      "outputs": []
    },
    {
      "cell_type": "code",
      "source": [
        "print(reverse_string(\"Liverpool\"))"
      ],
      "metadata": {
        "colab": {
          "base_uri": "https://localhost:8080/"
        },
        "id": "r9JmxPIlrmSd",
        "outputId": "c22988a4-499c-4e1d-bf9e-d8a4e3720bc4"
      },
      "execution_count": 15,
      "outputs": [
        {
          "output_type": "stream",
          "name": "stdout",
          "text": [
            "loopreviL\n"
          ]
        }
      ]
    },
    {
      "cell_type": "code",
      "source": [
        "#  find duplicates\n",
        "\n",
        "def has_duplicates(lst):\n",
        "  return len(lst) != len(set(lst))"
      ],
      "metadata": {
        "id": "bsuwTSMGryhh"
      },
      "execution_count": 16,
      "outputs": []
    },
    {
      "cell_type": "code",
      "source": [
        "lst = [1,2,3,4,4,5,7,7,9,1]\n",
        "print(has_duplicates)"
      ],
      "metadata": {
        "colab": {
          "base_uri": "https://localhost:8080/"
        },
        "id": "drTyZJuHsDUv",
        "outputId": "375aeed9-85c4-41f1-f764-72bf412f88b7"
      },
      "execution_count": 17,
      "outputs": [
        {
          "output_type": "stream",
          "name": "stdout",
          "text": [
            "<function has_duplicates at 0x7e876c644c10>\n"
          ]
        }
      ]
    },
    {
      "cell_type": "code",
      "source": [
        "#Merge Two Sorted Lists\n",
        "\n",
        "def merge_lists(lst1,lst2):\n",
        "  merged  =[]\n",
        "  i = j = 0\n",
        "  while i < len(lst1) and j < len(lst2):\n",
        "    if lst1[1] < lst2[j]:\n",
        "      merged.append(lst1[1])\n",
        "      i += 1\n",
        "    else:\n",
        "      merged.append(lst2[j])\n",
        "      j += 1\n",
        "  merged.extend(lst1[i:])\n",
        "  merged.extend(lst2[j:])\n",
        "  return merged\n"
      ],
      "metadata": {
        "id": "z-3VrDyWsMPz"
      },
      "execution_count": 18,
      "outputs": []
    },
    {
      "cell_type": "code",
      "source": [
        "lst1 = [2,4,6,8]\n",
        "lst2 = [1,3,5,7]\n",
        "\n",
        "print(merge_lists(lst1,lst2))"
      ],
      "metadata": {
        "colab": {
          "base_uri": "https://localhost:8080/"
        },
        "id": "R3SjQA4ztbr3",
        "outputId": "12b7cb4b-e7a1-4530-b529-b03e73af504d"
      },
      "execution_count": 19,
      "outputs": [
        {
          "output_type": "stream",
          "name": "stdout",
          "text": [
            "[1, 3, 4, 4, 4, 4, 5, 7]\n"
          ]
        }
      ]
    },
    {
      "cell_type": "code",
      "source": [
        "print(merge_lists([1,4,9,3],[5,6,7,3]))"
      ],
      "metadata": {
        "colab": {
          "base_uri": "https://localhost:8080/"
        },
        "id": "KQb2pi_MtMAD",
        "outputId": "0fd893e6-479c-4501-e313-12cc1ca812f2"
      },
      "execution_count": 20,
      "outputs": [
        {
          "output_type": "stream",
          "name": "stdout",
          "text": [
            "[4, 4, 4, 4, 5, 6, 7, 3]\n"
          ]
        }
      ]
    },
    {
      "cell_type": "code",
      "source": [
        "#Find the Maximum Element in a List:\n",
        "\n",
        "def find_max(lst):\n",
        "  max_element = lst[0]\n",
        "  for element in lst:\n",
        "    if element > max_element:\n",
        "      max_element = element\n",
        "    return max_element"
      ],
      "metadata": {
        "id": "Tu-G-BbmtXyY"
      },
      "execution_count": 21,
      "outputs": []
    },
    {
      "cell_type": "code",
      "source": [
        "lst = [1,2,5,6,8,9,3]\n",
        "print(find_max(lst))"
      ],
      "metadata": {
        "colab": {
          "base_uri": "https://localhost:8080/"
        },
        "id": "SxCZPNH_uBag",
        "outputId": "281cb430-806c-4b37-e123-46e84b6a7357"
      },
      "execution_count": 22,
      "outputs": [
        {
          "output_type": "stream",
          "name": "stdout",
          "text": [
            "1\n"
          ]
        }
      ]
    },
    {
      "cell_type": "code",
      "source": [
        "# Anagram Check:\n",
        "\n",
        "def is_anagram(str1,str2):\n",
        "  return sorted(str1) == sorted(str2)"
      ],
      "metadata": {
        "id": "kJFQNcjJuKeI"
      },
      "execution_count": 23,
      "outputs": []
    },
    {
      "cell_type": "code",
      "source": [
        "str1 = \"listen\"\n",
        "str2 = \"silent\"\n",
        "\n",
        "print(is_anagram(str1,str2))"
      ],
      "metadata": {
        "colab": {
          "base_uri": "https://localhost:8080/"
        },
        "id": "Qf8Pis2RukbA",
        "outputId": "36016468-de37-4430-ca73-a06aba6df8d5"
      },
      "execution_count": 24,
      "outputs": [
        {
          "output_type": "stream",
          "name": "stdout",
          "text": [
            "True\n"
          ]
        }
      ]
    },
    {
      "cell_type": "code",
      "source": [
        "str1 = \"cinema\"\n",
        "str2 = \"man\"\n",
        "\n",
        "print(is_anagram(str1,str2))"
      ],
      "metadata": {
        "colab": {
          "base_uri": "https://localhost:8080/"
        },
        "id": "9zp7JCehvHuM",
        "outputId": "85958b57-edc7-4154-cf36-a30e3b5568ef"
      },
      "execution_count": 25,
      "outputs": [
        {
          "output_type": "stream",
          "name": "stdout",
          "text": [
            "False\n"
          ]
        }
      ]
    },
    {
      "cell_type": "code",
      "source": [],
      "metadata": {
        "id": "p37vumdwuv61"
      },
      "execution_count": 25,
      "outputs": []
    }
  ]
}